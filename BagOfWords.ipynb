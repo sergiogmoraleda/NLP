{
 "cells": [
  {
   "attachments": {},
   "cell_type": "markdown",
   "metadata": {},
   "source": [
    "BAG OF WORDS\n",
    "\n",
    "Es una técnica de procesamiento de lenguaje natural de modelado de texto. En términos técnicos, podemos decir que es un método de extracción de características con datos de texto. Este enfoque es una forma simple y flexible de extraer características de los documentos.\n",
    "\n",
    "Una bolsa de palabras es una representación de texto que describe la ocurrencia de palabras dentro de un documento. Solo llevamos un registro del recuento de palabras y despreciamos los detalles gramaticales y el orden de las palabras.\n",
    "\n",
    "Se llama “bolsa” de palabras porque se descarta cualquier información sobre el orden o la estructura de las palabras en el documento.\n",
    "\n",
    "El modelo solo se preocupa por si las palabras conocidas ocurren en el documento, no dónde en el documento.\n",
    "\n",
    "¿PARA QUÉ SE USA?\n",
    "\n",
    "El conjunto de datos es desordenado y no estructurado y no tiene entradas de longitud fija, y los algoritmos de aprendizaje automático prefieren entradas estructuradas, bien definidas y de longitud fija y mediante el uso de la técnica Bag-of-Words podemos convertir textos de longitud variable en un vector de longitud fija. Los modelos de aprendizaje automático trabajan con datos numéricos en lugar de datos textuales. Al usar la técnica bag-of-words (BoW), convertimos un texto en su vector equivalente de números. \n",
    "\n",
    "Paso 1: Convierta las oraciones anteriores en minúsculas ya que la forma de la palabra no contiene información.\n",
    "\n",
    "Paso 2: Elimine los caracteres especiales y las palabras vacías del texto. \n",
    "\n",
    "Paso 3: Revise todas las palabras del texto anterior y haga una lista de todas las palabras en el vocabulario de nuestro modelo. \n",
    "\n",
    "\n",
    "Desventajas\n",
    "\n",
    "En bag of words consideramos todas las palabras con el mismo peso. ej : Su hermano es bueno. aquí BUENO es una palabra muy ponderada y hermano es menos ponderada. En Bag of word consideramos todas las palabras con el mismo peso.\n",
    "\n",
    "No tiene en cuenta los detalles gramaticales ni el orden de las palabras al almacenarlas."
   ]
  },
  {
   "cell_type": "code",
   "execution_count": 1,
   "metadata": {},
   "outputs": [
    {
     "name": "stdout",
     "output_type": "stream",
     "text": [
      "{'the': 7, 'quick': 6, 'brown': 0, 'fox': 2, 'jumped': 3, 'over': 5, 'lazy': 4, 'dog': 1}\n"
     ]
    }
   ],
   "source": [
    "from sklearn.feature_extraction.text import CountVectorizer\n",
    "\n",
    "text = [\"The quick brown fox jumped over the lazy dog.\"]\n",
    "\n",
    "vectorizer = CountVectorizer()\n",
    "vectorizer.fit(text) #ESTO TOKENIZA Y CONSTRUYE EL VOCAB\n",
    "\n",
    "print(vectorizer.vocabulary_)\n"
   ]
  }
 ],
 "metadata": {
  "kernelspec": {
   "display_name": "tfgENV",
   "language": "python",
   "name": "python3"
  },
  "language_info": {
   "codemirror_mode": {
    "name": "ipython",
    "version": 3
   },
   "file_extension": ".py",
   "mimetype": "text/x-python",
   "name": "python",
   "nbconvert_exporter": "python",
   "pygments_lexer": "ipython3",
   "version": "3.10.9"
  },
  "orig_nbformat": 4
 },
 "nbformat": 4,
 "nbformat_minor": 2
}
