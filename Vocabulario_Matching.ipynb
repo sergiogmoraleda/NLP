{
 "cells": [
  {
   "attachments": {},
   "cell_type": "markdown",
   "metadata": {},
   "source": [
    "“Hasta ahora hemos visto cómo un cuerpo de texto se divide en tokens y cómo se analizan y etiquetan los tokens individuales con partes del discurso, dependencias y lemas. Entendamos sobre identificar y etiquetar frases específicas que coinciden con patrones en NLP."
   ]
  },
  {
   "attachments": {},
   "cell_type": "markdown",
   "metadata": {},
   "source": [
    "Rule-based matching\n",
    "\n",
    "spaCy ofrece una herramienta de coincidencia de reglas llamada Matcher que te permite construir una biblioteca de patrones de tokens y luego hacer coincidir esos patrones con un objeto Doc para devolver una lista de coincidencias encontradas. Puedes hacer coincidir cualquier parte del token, incluyendo texto y anotaciones, y puedes agregar múltiples patrones al mismo Matcher."
   ]
  },
  {
   "cell_type": "code",
   "execution_count": 1,
   "metadata": {},
   "outputs": [],
   "source": [
    "import spacy\n",
    "nlp = spacy.load('en_core_web_sm')\n",
    "from spacy.matcher import Matcher\n",
    "matcher = Matcher(nlp.vocab)\n"
   ]
  },
  {
   "attachments": {},
   "cell_type": "markdown",
   "metadata": {},
   "source": [
    "Aquí el “matcher” es un objeto que se empareja con el objeto Vocab actual. Podemos agregar y eliminar matchers específicos con nombre al matcher según sea necesario."
   ]
  },
  {
   "cell_type": "code",
   "execution_count": 2,
   "metadata": {},
   "outputs": [],
   "source": [
    "#Creando patrones\n",
    "\n",
    "patron1 = [{'LOWER': 'solarpower'}]\n",
    "patron2 = [{'LOWER': 'solar'},{'LOWER': 'power'}]\n",
    "patron3 = [{'LOWER': 'solar'},{'IS_PUNCT': True }, {'LOWER': 'power'}]\n",
    "\n",
    "matcher.add('SolarPower',[patron1]) \n",
    "matcher.add('SolarPower', [patron2])\n",
    "matcher.add('SolarPower', [patron3])"
   ]
  },
  {
   "attachments": {},
   "cell_type": "markdown",
   "metadata": {},
   "source": [
    "APLICANDO EL \"MATCHER\" A UN DOCUMENTO NLP"
   ]
  },
  {
   "cell_type": "code",
   "execution_count": 5,
   "metadata": {},
   "outputs": [
    {
     "name": "stdout",
     "output_type": "stream",
     "text": [
      "[(8656102463236116519, 1, 3), (8656102463236116519, 10, 11), (8656102463236116519, 13, 16)]\n",
      "3\n"
     ]
    }
   ],
   "source": [
    "doc = nlp(u'The Solar Power industry continues to grow as demand \\\n",
    "for solarpower increases. Solar-power cars are gaining popularity.')\n",
    "found_matches = matcher(doc)\n",
    "print(found_matches)\n",
    "print(len(found_matches))\n",
    "\n",
    "for match_id, start, end in found_matches:\n",
    "    string_id = nlp.vocab.strings[match_id]  # Get string representation\n",
    "    span = doc[start:end]  # The matched span\n",
    "    print(match_id, string_id, start, end, span.text)\n"
   ]
  }
 ],
 "metadata": {
  "kernelspec": {
   "display_name": "tfgENV",
   "language": "python",
   "name": "python3"
  },
  "language_info": {
   "codemirror_mode": {
    "name": "ipython",
    "version": 3
   },
   "file_extension": ".py",
   "mimetype": "text/x-python",
   "name": "python",
   "nbconvert_exporter": "python",
   "pygments_lexer": "ipython3",
   "version": "3.10.9"
  },
  "orig_nbformat": 4,
  "vscode": {
   "interpreter": {
    "hash": "f638b33ce15311dd8815655847e95bc4984b6e6a62164189425d9874633e0160"
   }
  }
 },
 "nbformat": 4,
 "nbformat_minor": 2
}
