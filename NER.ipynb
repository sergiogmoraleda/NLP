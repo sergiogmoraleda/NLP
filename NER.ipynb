{
 "cells": [
  {
   "attachments": {},
   "cell_type": "markdown",
   "metadata": {},
   "source": [
    "NER (NAMED ENTITY RECOGNITION)\n",
    "\n",
    "(también conocido como identificación de entidades, segmentación de entidades y extracción de entidades) es una sub-tarea de la extracción de información que busca localizar y clasificar las entidades nombradas mencionadas en texto no estructurado en categorías predefinidas como nombres de personas, organizaciones, ubicaciones, códigos médicos...\n"
   ]
  },
  {
   "cell_type": "code",
   "execution_count": 4,
   "metadata": {},
   "outputs": [],
   "source": [
    "import spacy\n",
    "nlp = spacy.load('en_core_web_sm')\n",
    "nlp_es = spacy.load('es_core_news_lg')\n",
    "\n",
    "\n",
    "def get_entities(text):\n",
    "    if text.ents:\n",
    "        for ent in text.ents:\n",
    "            print (ent.text + ' - ' + ent.label_ + ' - ' + str(spacy.explain(ent.label_)))\n",
    "    else:\n",
    "\n",
    "        print('No entities found')\n",
    "\n"
   ]
  },
  {
   "cell_type": "code",
   "execution_count": 7,
   "metadata": {},
   "outputs": [
    {
     "name": "stdout",
     "output_type": "stream",
     "text": [
      "John Snow - PERSON - People, including fictional\n",
      "Leo Messi - PERSON - People, including fictional\n",
      "Sergio - PER - Named person or family.\n",
      "Real Madrid CF - ORG - Companies, agencies, institutions, etc.\n"
     ]
    }
   ],
   "source": [
    "doc = nlp(\"I am John Snow, I love to play football. I love Leo Messi.\")\n",
    "doc_es = nlp_es(\"Me llamo Sergio y me gusta el Real Madrid CF.\")\n",
    "\n",
    "get_entities(doc)\n",
    "\n",
    "get_entities(doc_es)    "
   ]
  }
 ],
 "metadata": {
  "kernelspec": {
   "display_name": "tfgENV",
   "language": "python",
   "name": "python3"
  },
  "language_info": {
   "codemirror_mode": {
    "name": "ipython",
    "version": 3
   },
   "file_extension": ".py",
   "mimetype": "text/x-python",
   "name": "python",
   "nbconvert_exporter": "python",
   "pygments_lexer": "ipython3",
   "version": "3.10.9"
  },
  "orig_nbformat": 4
 },
 "nbformat": 4,
 "nbformat_minor": 2
}
