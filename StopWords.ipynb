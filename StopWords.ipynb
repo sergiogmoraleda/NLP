{
 "cells": [
  {
   "attachments": {},
   "cell_type": "markdown",
   "metadata": {},
   "source": [
    "---- -> Stop Words <- ----\n",
    "\n",
    "Las palabras vacías (stop words en inglés) son un conjunto de palabras comúnmente utilizadas\n",
    "en un idioma que se eliminan de un texto antes de procesarlo para su análisis en el \n",
    "Procesamiento del Lenguaje Natural (NLP).\n"
   ]
  },
  {
   "cell_type": "code",
   "execution_count": 1,
   "metadata": {},
   "outputs": [
    {
     "name": "stderr",
     "output_type": "stream",
     "text": [
      "[nltk_data] Downloading package stopwords to\n",
      "[nltk_data]     C:\\Users\\SGarc\\AppData\\Roaming\\nltk_data...\n",
      "[nltk_data]   Package stopwords is already up-to-date!\n"
     ]
    },
    {
     "data": {
      "text/plain": [
       "True"
      ]
     },
     "execution_count": 1,
     "metadata": {},
     "output_type": "execute_result"
    }
   ],
   "source": [
    "import spacy\n",
    "nlp = spacy.load('en_core_web_sm')\n",
    "nlp_sp = spacy.load('es_core_news_sm')\n",
    "\n",
    "import nltk \n",
    "nltk.download('stopwords')\n"
   ]
  },
  {
   "cell_type": "code",
   "execution_count": 2,
   "metadata": {},
   "outputs": [
    {
     "name": "stdout",
     "output_type": "stream",
     "text": [
      "{'three', 'few', 'do', 'into', 'thereupon', 'is', 'doing', 'again', 'onto', 'name', '‘m', 'our', 'empty', 'first', 'less', 'front', 'side', 'besides', 'least', 'although', 'at', \"'re\", 'and', 'in', 'more', 'about', 'was', 'four', 'whereupon', 'fifteen', 'except', 'us', 'beside', 'seems', 'through', '’d', 'hers', 'whether', 'afterwards', 'would', 'can', 'before', 'say', 'will', 'several', 'whence', 'hence', 'were', 'over', 'where', 'formerly', 'only', 'i', 'had', 'it', 'bottom', 'call', 'cannot', 'here', 'did', 'while', 'something', '’s', 'hereafter', 'am', 'seeming', 'go', 'been', 'everywhere', 'these', 'via', 'what', 'third', 'almost', 'due', 'them', 'wherein', 'as', 'already', 'their', 'throughout', 'then', 'him', 'itself', 'using', 'ca', 'done', 'much', 'put', 'still', 'keep', 'made', 'mostly', 'alone', 'no', 'by', 'ever', 'everyone', 'however', 'you', 'though', 'per', 'up', 'without', 'elsewhere', 'to', 'amount', 'please', 'anyway', 'namely', \"'d\", 'own', 'therein', 'mine', 'must', 'n’t', 'become', 'after', 'eleven', 'nobody', 'eight', 'indeed', '‘d', 'of', 'some', \"n't\", 'else', 'seem', 'someone', 'anything', 'wherever', 'get', '‘re', \"'ve\", 'during', 'became', 'becoming', 'various', 'serious', 'thus', 'off', 'also', 'being', 'should', 'within', 'yet', 'may', 'next', 'anywhere', 'just', 'thereby', 'too', 'above', 'therefore', 'me', '‘ve', \"'s\", 'that', 'whose', 'sometimes', 'ten', 'others', 'whereafter', 'under', 'yourselves', 'down', 'they', 'among', 'now', 'or', 'hereby', 'between', 'one', 'every', 'another', 'six', 'there', 'moreover', 'make', '‘s', 'last', 'none', 'his', '‘ll', 'he', 'any', 'beyond', 'from', 'because', 'somehow', 'if', 'thence', 'very', 'whoever', 'enough', 'herein', 'until', 'could', 'hereupon', 'your', 'for', \"'ll\", 're', 'has', 'an', 'its', 'whereas', 'than', 'twenty', 'always', 'seemed', 'otherwise', 'themselves', 'quite', 'not', 'whole', 'beforehand', 'top', 'along', 'thru', 'two', 'everything', 'fifty', 'who', 'never', 'perhaps', 'anyone', 'latterly', 'are', 'this', 'since', 'whenever', 'below', 'have', 'used', 'becomes', 'whom', 'but', 'other', 'such', 'against', 'nothing', 'which', 'full', 'her', 'noone', 'see', 'latter', 'nine', 'well', 'whereby', 'both', 'many', 'nor', 'unless', 'move', 'five', 'regarding', 'the', 'ours', 'nevertheless', '’m', 'anyhow', 'really', 'why', 'somewhere', 'together', 'across', 'same', 'whatever', 'my', 'so', 'amongst', 'give', 'meanwhile', 'around', 'whither', 'take', 'most', 'upon', 'further', 'often', 'either', 'sixty', 'rather', 'myself', 'behind', 'hundred', 'a', 'show', 'sometime', 'yours', 'does', 'on', 'might', 'toward', \"'m\", 'part', 'when', 'be', 'out', 'all', 'nowhere', 'himself', 'twelve', 'she', 'how', '’ll', 'even', 'thereafter', '’re', 'towards', 'we', 'each', 'ourselves', '’ve', 'once', 'back', 'herself', 'neither', 'former', 'n‘t', 'those', 'yourself', 'forty', 'with'}\n"
     ]
    }
   ],
   "source": [
    "#vamos a mostrar las stopwords en ingles\n",
    "\n",
    "print(nlp.Defaults.stop_words)"
   ]
  },
  {
   "cell_type": "code",
   "execution_count": 3,
   "metadata": {},
   "outputs": [
    {
     "name": "stdout",
     "output_type": "stream",
     "text": [
      "{'manera', 'respecto', 'paìs', 'porque', 'aquellos', 'fuimos', 'sí', 'usais', 'consigo', 'apenas', 'vuestra', 'indicó', 'casi', 'dado', 'habrá', 'le', 'eso', 'como', 'hace', 'ninguno', 'propio', 'ya', 'dentro', 'supuesto', 'u', 'añadió', 'aún', 'primero', 'cuatro', 'tarde', 'está', 'vamos', 'anterior', 'quienes', 'poder', 'nunca', 'hacen', 'las', 'según', 'sobre', 'poco', 'tenido', 'demás', 'mío', 'diferente', 'mio', 'mías', 'ésos', 'dicho', 'estaban', 'aquéllas', 'ésas', 'estoy', 'cuándo', 'breve', 'los', 'enseguida', 'sabe', 'mucha', 'quizá', 'aquél', 'despacio', 'otra', 'cuantos', 'ahora', 'usamos', 'vez', 'detras', 'dias', 'tienen', 'modo', 'usas', 'quiza', 'si', 'dar', 'ahí', 'claro', 'nuevos', 'deben', 'tambien', 'entre', 'parte', 'igual', 'quién', 'cuáles', 'suyos', 'ellas', 'ninguna', 'serán', 'fin', 'el', 'menudo', 'encuentra', 'varios', 'deprisa', 'excepto', 'hacer', 'hasta', 'contra', 'donde', 'estais', 'señaló', 'podrán', 'tal', 'aquel', 'cuanto', 'todo', 'dia', 'luego', 'informo', 'sido', 'verdadera', 'dieron', 'final', 'también', 'vaya', 'consigue', 'hacemos', 'segun', 'varias', 'durante', 'poca', 'tanto', 'ella', 'cuando', 'tuyo', 'vosotros', 'tuvo', 'toda', 'seis', 'decir', 'vuestras', 'quizás', 'no', 'estará', 'fuera', 'ello', 'fueron', 'cuánto', 'nuestras', 'ahi', 'algunos', 'ellos', 'podrían', 'buena', 'nuestros', 'ademas', 'mismo', 'han', 'tuyos', 'realizado', 'consideró', 'salvo', 'peor', 'dejó', 'mia', 'antes', 'tuyas', 'repente', 'doce', 'una', 'pocos', 'nada', 'usa', 'fue', 'habían', 'tenía', 'voy', 'tampoco', 'les', 'ver', 'ustedes', 'manifestó', 'posible', 'es', 'últimos', 'debe', 'eres', 'vosotras', 'lleva', 'cuales', 'este', 'propia', 'existe', 'todavía', 'que', 'temprano', 'nueve', 'nuevo', 'podriais', 'nuestro', 'dos', 'poner', 'sería', 'sabes', 'podrian', 'tenga', 'usan', 'algo', 'éstos', 'nadie', 'aproximadamente', 'pocas', 'pronto', 'mayor', 'buenos', 'vais', 'contigo', 'él', 'siguiente', 'explicó', 'podrá', 'detrás', 'haciendo', 'había', 'tercera', 'tenemos', 'allí', 'propios', 'llevar', 'estados', 'me', 'agregó', 'día', 'conmigo', 'junto', 'tendrá', 'ése', 'todos', 'tres', 'esa', 'existen', 'hay', 'primer', 'primeros', 'acuerdo', 'tercero', 'queremos', 'dicen', 'cualquier', 'sus', 'incluso', 'aquí', 'estos', 'solamente', 'propias', 'realizar', 'mía', 'con', 'puede', 'hago', 'creo', 'tener', 'para', 'aquella', 'lado', 'bastante', 'ésta', 'se', 'sera', 'esta', 'sola', 'pasada', 'enfrente', 'yo', 'sé', 'sino', 'haya', 'mismos', 'hacerlo', 'podria', 'menos', 'conocer', 'míos', 'tendrán', 'he', 'bueno', 'otros', 'días', 'siempre', 'comentó', 'afirmó', 'hubo', 'siendo', 'muy', 'mis', 'sabemos', 'consigues', 'diferentes', 'va', 'van', 'podría', 'cuantas', 'solas', 'mias', 'suya', 'estuvo', 'nueva', 'usar', 'pueden', 'podemos', 'considera', 'sin', 'consiguen', 'ésa', 'qeu', 'qué', 'cómo', 'saber', 'largo', 'cierto', 'delante', 'unas', 'buen', 'ocho', 'os', 'algunas', 'mediante', 'tuya', 'últimas', 'vuestro', 'ante', 'pueda', 'cual', 'dijeron', 'dónde', 'eran', 'podriamos', 'mas', 'haber', 'suyas', 'teneis', 'estaba', 'hecho', 'ningunas', 'era', 'cuántos', 'llegó', 'ir', 'realizó', 'cuenta', 'somos', 'estamos', 'despues', 'través', 'trata', 'segunda', 'da', 'muchos', 'proximo', 'estas', 'hicieron', 'nosotras', 'tras', 'verdad', 'dice', 'podeis', 'cuánta', 'grande', 'más', 'grandes', 'alrededor', 'veces', 'estado', 'partir', 'conseguir', 'te', 'uno', 'después', 'sea', 'estar', 'desde', 'último', 'mientras', 'pudo', 'mal', 'eramos', 'debajo', 'tu', 'estan', 'ningún', 'hablan', 'quiénes', 'su', 'tan', 'última', 'lo', 'tus', 'además', 'pues', 'y', 'total', 'aseguró', 'encima', 'ha', 'nuestra', 'hizo', 'aquellas', 'algún', 'embargo', 'bajo', 'usted', 'ambos', 'demasiado', 'hoy', 'podrias', 'quedó', 'cada', 'conseguimos', 'tiene', 'quizas', 'sois', 'haces', 'ningunos', 'al', 'así', 'quien', 'primera', 'e', 'mismas', 'otro', 'aqui', 'mí', 'pesar', 'aquéllos', 'ciertos', 'sigue', 'otras', 'atras', 'mios', 'gran', 'próximo', 'expresó', 'alguno', 'nosotros', 'mencionó', 'ti', 'buenas', 'o', 'sabeis', 'cinco', 'nuevas', 'segundo', 'muchas', 'ciertas', 'entonces', 'unos', 'debido', 'en', 'a', 'habia', 'haceis', 'mi', 'ser', 'ultimo', 'eras', 'será', 'cuántas', 'pasado', 'sean', 'aun', 'uso', 'siete', 'son', 'ni', 'arriba', 'bien', 'nos', 'cuál', 'de', 'éstas', 'éste', 'hacia', 'saben', 'fui', 'hemos', 'puedo', 'pero', 'adelante', 'alli', 'medio', 'dijo', 'todavia', 'esto', 'dan', 'un', 'solo', 'tú', 'vuestros', 'misma', 'soy', 'cuanta', 'cierta', 'del', 'alguna', 'por', 'esos', 'mucho', 'solos', 'ese', 'aquélla', 'asi', 'dio', 'próximos', 'la', 'diez', 'tengo', 'esas', 'once', 'informó', 'verdadero', 'todas', 'aunque', 'suyo', 'parece', 'sólo', 'aquello', 'quiere', 'están', 'habla', 'mejor'}\n"
     ]
    }
   ],
   "source": [
    "#vamos a mostrar las stopwords en español\n",
    "\n",
    "print(nlp_sp.Defaults.stop_words)"
   ]
  }
 ],
 "metadata": {
  "kernelspec": {
   "display_name": "tfgENV",
   "language": "python",
   "name": "python3"
  },
  "language_info": {
   "codemirror_mode": {
    "name": "ipython",
    "version": 3
   },
   "file_extension": ".py",
   "mimetype": "text/x-python",
   "name": "python",
   "nbconvert_exporter": "python",
   "pygments_lexer": "ipython3",
   "version": "3.10.9"
  },
  "orig_nbformat": 4,
  "vscode": {
   "interpreter": {
    "hash": "f638b33ce15311dd8815655847e95bc4984b6e6a62164189425d9874633e0160"
   }
  }
 },
 "nbformat": 4,
 "nbformat_minor": 2
}
